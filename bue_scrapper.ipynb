{
 "cells": [
  {
   "cell_type": "code",
   "execution_count": 144,
   "metadata": {},
   "outputs": [],
   "source": [
    "import os\n",
    "import time\n",
    "import pickle\n",
    "import shutil\n",
    "import helium as hel\n",
    "import regex\n",
    "import chromedriver_autoinstaller\n",
    "from webdriver_manager.chrome import ChromeDriverManager\n",
    "from selenium.webdriver import ChromeOptions\n",
    "from secrets import * # user-made secrets.py which contains email and password variables"
   ]
  },
  {
   "cell_type": "code",
   "execution_count": 145,
   "metadata": {},
   "outputs": [],
   "source": [
    "def pklSave(contentToBeSaved, fullPath):\n",
    "    with open(fullPath, 'wb') as f:\n",
    "        pickle.dump(contentToBeSaved, f)\n",
    "\n",
    "def pklLoad(fullPath):\n",
    "    with open(fullPath, 'rb') as f:\n",
    "        content = pickle.load(f)\n",
    "    return content\n",
    "\n",
    "def pklForceLoad(path, dtype = 'dict'):\n",
    "    try:\n",
    "        content = pklLoad(path)\n",
    "        return content\n",
    "    except Exception as e:\n",
    "        if dtype == 'list':\n",
    "            pklSave([], path)\n",
    "            return []\n",
    "        else:\n",
    "            pklSave({}, path)\n",
    "            return {}\n",
    "\n",
    "# more about naming standards for path components here: https://stackoverflow.com/questions/2235173/what-is-the-naming-standard-for-path-components\n",
    "def joinPaths(baseDirectory, relativePath):\n",
    "    return os.path.normpath(os.path.join(baseDirectory, relativePath))\n",
    "\n",
    "def changeSep(path, newSep, oldSep=os.path.sep): \n",
    "    # source: https://stackoverflow.com/questions/18707338/print-raw-string-from-variable-not-getting-the-answers#:~:text=To%20turn%20a%20variable%20to%20raw%20str%2C%20just%20use\n",
    "    return os.path.normpath(rf\"{path}\").replace(os.path.sep, newSep) # source: https://mail.python.org/pipermail/tutor/2011-July/084788.html\n",
    "\n",
    "# Credits (source): https://medium.com/cubemail88/automatically-download-chromedriver-for-selenium-aaf2e3fd9d81\n",
    "def updateChromeDriver():\n",
    "    \"\"\"\n",
    "    Installs newest version of ChromeDriver.exe and adds it to path that Helium will read from.\n",
    "    Therefore, your chrome browser should be updated to the latest version\n",
    "    \"\"\"\n",
    "    os.environ['WDM_LOG_LEVEL'] = '0'\n",
    "    os.environ['WDM_LOCAL'] = '1'\n",
    "    oldPath = ChromeDriverManager().install()\n",
    "    helium_chromedriver_path = r'.conda\\Lib\\site-packages\\helium\\_impl\\webdrivers\\windows'\n",
    "    newPath = oldPath[:oldPath.find('.wdm')] + helium_chromedriver_path + '\\\\' + oldPath.split('\\\\')[-1]\n",
    "    os.replace(oldPath, newPath) # moves installed chromedriver.exe from old path to new path\n",
    "    shutil.rmtree('.wdm/') # removes old path"
   ]
  },
  {
   "cell_type": "code",
   "execution_count": 146,
   "metadata": {},
   "outputs": [],
   "source": [
    "# automatically updates chromedriver to latest version that matches browser version\n",
    "chromeDriverFilePath = chromedriver_autoinstaller.install()"
   ]
  },
  {
   "cell_type": "code",
   "execution_count": 147,
   "metadata": {},
   "outputs": [],
   "source": [
    "downloadLocFullPath = os.path.abspath(\"downloads\")\n",
    "options = ChromeOptions()\n",
    "options.add_argument('--disable-notifications')\n",
    "options.add_experimental_option('prefs', {\n",
    "\"download.default_directory\": downloadLocFullPath, #Change default directory for downloads\n",
    "\"download.prompt_for_download\": False, #To auto download the file\n",
    "\"download.directory_upgrade\": True,\n",
    "\"plugins.always_open_pdf_externally\": True #It will not show PDF directly in chrome\n",
    "})\n",
    "browser = hel.start_chrome(options=options, headless=False)"
   ]
  },
  {
   "cell_type": "code",
   "execution_count": 148,
   "metadata": {},
   "outputs": [],
   "source": [
    "# method to get the downloaded file name, source: https://stackoverflow.com/questions/34548041/selenium-give-file-name-when-downloading#:~:text=Here%20is%20another%20simple%20solution%2C%20where%20you%20can%20wait%20until%20the%20download%20completed%20and%20then%20get%20the%20downloaded%20file%20name%20from%20chrome%20downloads.\n",
    "def getDownLoadedFileName(waitTime):\n",
    "    # switch to new tab\n",
    "    browser.switch_to.window(browser.window_handles[-1])\n",
    "    # navigate to chrome downloads\n",
    "    browser.get('chrome://downloads')\n",
    "    # define the endTime\n",
    "    endTime = time.time() + waitTime\n",
    "    while True:\n",
    "        time.sleep(3)\n",
    "        try:\n",
    "            browser.find_element_by_id('pauseOrResume')\n",
    "            # # get downloaded percentage\n",
    "            # downloadPercentage = browser.execute_script(\n",
    "            #     \"return document.querySelector('downloads-manager').shadowRoot.querySelector('#downloadsList downloads-item').shadowRoot.querySelector('#progress').value\")\n",
    "            # # check if downloadPercentage is 100 (otherwise the script will keep waiting)\n",
    "            # if downloadPercentage == 100:\n",
    "            #     # return the file name once the download is completed\n",
    "            #     return browser.execute_script(\"return document.querySelector('downloads-manager').shadowRoot.querySelector('#downloadsList downloads-item').shadowRoot.querySelector('div#content  #file-link').text\")\n",
    "        except:\n",
    "            # return the file name once the download is completed\n",
    "            return browser.execute_script(\"return document.querySelector('downloads-manager').shadowRoot.querySelector('#downloadsList downloads-item').shadowRoot.querySelector('div#content  #file-link').text\")\n",
    "            # pass\n",
    "        if time.time() > endTime:\n",
    "            return ''\n",
    "\n",
    "def moveFile(fileName, source, dest): # source: https://www.geeksforgeeks.org/python-move-and-overwrite-files-and-folders/\n",
    "    # check if file already exists in destination or doesn't exist in source\n",
    "    if os.path.isfile(joinPaths(dest, fileName)) or not os.path.isfile(joinPaths(source, fileName)):\n",
    "        return\n",
    "    shutil.move(joinPaths(source, fileName), dest)\n",
    "\n",
    "def get_modules_content(faculty = 'Informatics and Computer Science', moduleName='all', signedIn=False, baseRelativePath='downloads', minsTillDownloadIsCancelled = 1):\n",
    "    # chooses learn1 or learn2.bue.edu.eg based on your chosen faculty\n",
    "    elearningDomain = 2\n",
    "    firstDomainFaculties = ['Informatics and Computer Science (ICS)'.lower(), 'Arts & Design'.lower(), 'Energy & Environmental Engineering'.lower()]\n",
    "    firstDomainFaculties = [facultyName.lower() for facultyName in firstDomainFaculties]\n",
    "    # alternatively, you can copy code in debugging cell 1 and paste it here to dynamically get domain faculties in  learn1.bue.edu.eg\n",
    "    for facName in firstDomainFaculties:\n",
    "        if faculty.lower() in facName:\n",
    "            elearningDomain = 1\n",
    "            break\n",
    "\n",
    "    browser.get(f'https://learn{elearningDomain}.bue.edu.eg/')\n",
    "    \n",
    "    # ... signs you in if you're not signed in :D\n",
    "    if not signedIn:\n",
    "        hel.write(email[:email.find('@')], into='Username')\n",
    "        hel.write(password, into='Password')\n",
    "        hel.click('Log in')\n",
    "    time.sleep(5)\n",
    "\n",
    "    # retrieving all or 1 module link(s) and name(s) based on moduleName parameter\n",
    "    moduleLinks = []\n",
    "    moduleNames = []\n",
    "    moduleCards = browser.find_elements_by_xpath(\"//div[@class='card dashboard-card']\")\n",
    "    for divElem in moduleCards: # go through the modules (needs the modules to be in cards layout)\n",
    "        aElem = divElem.find_element_by_xpath(\".//descendant::a[2]\") # so we'll use find_element_by_tag_name() instead: \n",
    "        curModuleName = aElem.find_element_by_xpath('(.//child::span)[last()]').text # and now xpath is working again...\n",
    "        if moduleName == 'all' or moduleName.lower() in curModuleName.lower(): \n",
    "            moduleLinks.append(aElem.get_attribute('href'))\n",
    "            moduleNames.append(curModuleName.replace('&', 'and').replace(':', ',').title())\n",
    "    \n",
    "    # doing the comments below for 1 or all modules (depending on moduleName parameter) \n",
    "    for i in range(len(moduleLinks)): \n",
    "        # creating module folder\n",
    "        modulePath = joinPaths(baseRelativePath, moduleNames[i])\n",
    "        if not os.path.exists(modulePath):\n",
    "            os.makedirs(modulePath)\n",
    "        \n",
    "        # downloading module content\n",
    "        browser.get(moduleLinks[i])\n",
    "        time.sleep(3) # waiting for the page to render\n",
    "        moduleCardsCount = 1\n",
    "        tileUrls = []\n",
    "        while True: # breaks when id of 'tile-{moduleCardsCount}' is not found in the page (i.e., all module cards are checked)\n",
    "            try:\n",
    "                tileUrls.append(browser.find_element_by_id(f'tile-{moduleCardsCount}').find_element_by_xpath('.//child::a[1]').get_attribute('href')) # tile == card, but is closed \n",
    "                moduleCardsCount += 1\n",
    "            except:\n",
    "                moduleCardsCount -= 1\n",
    "                break\n",
    "            \n",
    "        for j in range(len(tileUrls)):\n",
    "            # creating module card folder with folder name same as module card name\n",
    "            browser.get(tileUrls[j])\n",
    "            time.sleep(4)\n",
    "            tileElem = browser.find_element_by_id(f'sectiontitle{j+1}')\n",
    "            cardName = tileElem.text.replace(':', ',').replace('&', 'and').title() # title() --> makes first letter of each word uppercase\n",
    "            moduleCardPath = joinPaths(modulePath, cardName)\n",
    "            if not os.path.exists(moduleCardPath):\n",
    "                os.makedirs(moduleCardPath)\n",
    "\n",
    "            # getting links (i.e., URLs) for module card contents\n",
    "            cardElem = None\n",
    "            while cardElem is None: # stops when tile click is rednered and tile is opened to become a card\n",
    "                try:\n",
    "                    cardElem = browser.find_element_by_id(f'section-{j+1}')\n",
    "                except:\n",
    "                    pass\n",
    "            cardMaterialLinks = []\n",
    "            for aElem in cardElem.find_elements_by_tag_name('a'):\n",
    "                materialLink = aElem.get_attribute('href')\n",
    "                if materialLink is not None and 'resource/view' in materialLink:\n",
    "                    cardMaterialLinks.append(materialLink)\n",
    "\n",
    "            # downloading module card content \n",
    "            openDownloadTabOnce = True\n",
    "            for materialLink in cardMaterialLinks: # downloads to relativeBasePath, then moves file to moduleName/moduleCardName\n",
    "                browser.get(materialLink) # downloads, due to setting certain prefs in add_experimental_option()\n",
    "                if openDownloadTabOnce:\n",
    "                    browser.execute_script(\"window.open()\")\n",
    "                    openDownloadTabOnce = False\n",
    "                materialName = getDownLoadedFileName(minsTillDownloadIsCancelled*60) # gets name of downloaded material file (waits for maximum of 3 minutes, so you should have a fast internet connection)\n",
    "                if materialName != '':\n",
    "                    moveFile(materialName, baseRelativePath, moduleCardPath)\n",
    "            \n",
    "            if browser.current_url != tileUrls[j]:\n",
    "                browser.get(tileUrls[j]) # going back to j'th tile page\n",
    "\n",
    "        \n",
    "    #    # draft code to download after link renders from .php to .pdf, etc\n",
    "    #     prevLink = browser.current_url\n",
    "    #     browser.get(link)\n",
    "    #     timeout = time.time() + 60*3   # 3 minutes from now\n",
    "    #     while (prevLink == browser.current_url): # wait until link converts to a file (.pdf, .ppt, etc)\n",
    "    #         if time.time() > timeout:\n",
    "    #             break\n",
    "    #     ... # code to download file\n",
    "        \n"
   ]
  },
  {
   "cell_type": "code",
   "execution_count": 149,
   "metadata": {},
   "outputs": [
    {
     "ename": "NoSuchWindowException",
     "evalue": "Message: no such window: target window already closed\nfrom unknown error: web view not found\n  (Session info: chrome=109.0.5414.120)\n",
     "output_type": "error",
     "traceback": [
      "\u001b[1;31m---------------------------------------------------------------------------\u001b[0m",
      "\u001b[1;31mNoSuchWindowException\u001b[0m                     Traceback (most recent call last)",
      "Cell \u001b[1;32mIn[149], line 1\u001b[0m\n\u001b[1;32m----> 1\u001b[0m get_modules_content(faculty\u001b[39m=\u001b[39;49m\u001b[39m'\u001b[39;49m\u001b[39minformatics\u001b[39;49m\u001b[39m'\u001b[39;49m, moduleName\u001b[39m=\u001b[39;49m\u001b[39m'\u001b[39;49m\u001b[39mnatural\u001b[39;49m\u001b[39m'\u001b[39;49m, signedIn\u001b[39m=\u001b[39;49m\u001b[39mFalse\u001b[39;49;00m)\n",
      "Cell \u001b[1;32mIn[148], line 88\u001b[0m, in \u001b[0;36mget_modules_content\u001b[1;34m(faculty, moduleName, signedIn, baseRelativePath, minsTillDownloadIsCancelled)\u001b[0m\n\u001b[0;32m     86\u001b[0m browser\u001b[39m.\u001b[39mget(tileUrls[j])\n\u001b[0;32m     87\u001b[0m time\u001b[39m.\u001b[39msleep(\u001b[39m4\u001b[39m)\n\u001b[1;32m---> 88\u001b[0m tileElem \u001b[39m=\u001b[39m browser\u001b[39m.\u001b[39;49mfind_element_by_id(\u001b[39mf\u001b[39;49m\u001b[39m'\u001b[39;49m\u001b[39msectiontitle\u001b[39;49m\u001b[39m{\u001b[39;49;00mj\u001b[39m+\u001b[39;49m\u001b[39m1\u001b[39;49m\u001b[39m}\u001b[39;49;00m\u001b[39m'\u001b[39;49m)\n\u001b[0;32m     89\u001b[0m cardName \u001b[39m=\u001b[39m tileElem\u001b[39m.\u001b[39mtext\u001b[39m.\u001b[39mreplace(\u001b[39m'\u001b[39m\u001b[39m:\u001b[39m\u001b[39m'\u001b[39m, \u001b[39m'\u001b[39m\u001b[39m,\u001b[39m\u001b[39m'\u001b[39m)\u001b[39m.\u001b[39mreplace(\u001b[39m'\u001b[39m\u001b[39m&\u001b[39m\u001b[39m'\u001b[39m, \u001b[39m'\u001b[39m\u001b[39mand\u001b[39m\u001b[39m'\u001b[39m)\u001b[39m.\u001b[39mtitle() \u001b[39m# title() --> makes first letter of each word uppercase\u001b[39;00m\n\u001b[0;32m     90\u001b[0m moduleCardPath \u001b[39m=\u001b[39m joinPaths(modulePath, cardName)\n",
      "File \u001b[1;32md:\\CS\\projects\\bue-scrapper\\.conda\\lib\\site-packages\\selenium\\webdriver\\remote\\webdriver.py:360\u001b[0m, in \u001b[0;36mWebDriver.find_element_by_id\u001b[1;34m(self, id_)\u001b[0m\n\u001b[0;32m    345\u001b[0m \u001b[39mdef\u001b[39;00m \u001b[39mfind_element_by_id\u001b[39m(\u001b[39mself\u001b[39m, id_):\n\u001b[0;32m    346\u001b[0m \u001b[39m    \u001b[39m\u001b[39m\"\"\"Finds an element by id.\u001b[39;00m\n\u001b[0;32m    347\u001b[0m \n\u001b[0;32m    348\u001b[0m \u001b[39m    :Args:\u001b[39;00m\n\u001b[1;32m   (...)\u001b[0m\n\u001b[0;32m    358\u001b[0m \u001b[39m        element = driver.find_element_by_id('foo')\u001b[39;00m\n\u001b[0;32m    359\u001b[0m \u001b[39m    \"\"\"\u001b[39;00m\n\u001b[1;32m--> 360\u001b[0m     \u001b[39mreturn\u001b[39;00m \u001b[39mself\u001b[39;49m\u001b[39m.\u001b[39;49mfind_element(by\u001b[39m=\u001b[39;49mBy\u001b[39m.\u001b[39;49mID, value\u001b[39m=\u001b[39;49mid_)\n",
      "File \u001b[1;32md:\\CS\\projects\\bue-scrapper\\.conda\\lib\\site-packages\\selenium\\webdriver\\remote\\webdriver.py:976\u001b[0m, in \u001b[0;36mWebDriver.find_element\u001b[1;34m(self, by, value)\u001b[0m\n\u001b[0;32m    974\u001b[0m         by \u001b[39m=\u001b[39m By\u001b[39m.\u001b[39mCSS_SELECTOR\n\u001b[0;32m    975\u001b[0m         value \u001b[39m=\u001b[39m \u001b[39m'\u001b[39m\u001b[39m[name=\u001b[39m\u001b[39m\"\u001b[39m\u001b[39m%s\u001b[39;00m\u001b[39m\"\u001b[39m\u001b[39m]\u001b[39m\u001b[39m'\u001b[39m \u001b[39m%\u001b[39m value\n\u001b[1;32m--> 976\u001b[0m \u001b[39mreturn\u001b[39;00m \u001b[39mself\u001b[39;49m\u001b[39m.\u001b[39;49mexecute(Command\u001b[39m.\u001b[39;49mFIND_ELEMENT, {\n\u001b[0;32m    977\u001b[0m     \u001b[39m'\u001b[39;49m\u001b[39musing\u001b[39;49m\u001b[39m'\u001b[39;49m: by,\n\u001b[0;32m    978\u001b[0m     \u001b[39m'\u001b[39;49m\u001b[39mvalue\u001b[39;49m\u001b[39m'\u001b[39;49m: value})[\u001b[39m'\u001b[39m\u001b[39mvalue\u001b[39m\u001b[39m'\u001b[39m]\n",
      "File \u001b[1;32md:\\CS\\projects\\bue-scrapper\\.conda\\lib\\site-packages\\selenium\\webdriver\\remote\\webdriver.py:321\u001b[0m, in \u001b[0;36mWebDriver.execute\u001b[1;34m(self, driver_command, params)\u001b[0m\n\u001b[0;32m    319\u001b[0m response \u001b[39m=\u001b[39m \u001b[39mself\u001b[39m\u001b[39m.\u001b[39mcommand_executor\u001b[39m.\u001b[39mexecute(driver_command, params)\n\u001b[0;32m    320\u001b[0m \u001b[39mif\u001b[39;00m response:\n\u001b[1;32m--> 321\u001b[0m     \u001b[39mself\u001b[39;49m\u001b[39m.\u001b[39;49merror_handler\u001b[39m.\u001b[39;49mcheck_response(response)\n\u001b[0;32m    322\u001b[0m     response[\u001b[39m'\u001b[39m\u001b[39mvalue\u001b[39m\u001b[39m'\u001b[39m] \u001b[39m=\u001b[39m \u001b[39mself\u001b[39m\u001b[39m.\u001b[39m_unwrap_value(\n\u001b[0;32m    323\u001b[0m         response\u001b[39m.\u001b[39mget(\u001b[39m'\u001b[39m\u001b[39mvalue\u001b[39m\u001b[39m'\u001b[39m, \u001b[39mNone\u001b[39;00m))\n\u001b[0;32m    324\u001b[0m     \u001b[39mreturn\u001b[39;00m response\n",
      "File \u001b[1;32md:\\CS\\projects\\bue-scrapper\\.conda\\lib\\site-packages\\selenium\\webdriver\\remote\\errorhandler.py:242\u001b[0m, in \u001b[0;36mErrorHandler.check_response\u001b[1;34m(self, response)\u001b[0m\n\u001b[0;32m    240\u001b[0m         alert_text \u001b[39m=\u001b[39m value[\u001b[39m'\u001b[39m\u001b[39malert\u001b[39m\u001b[39m'\u001b[39m]\u001b[39m.\u001b[39mget(\u001b[39m'\u001b[39m\u001b[39mtext\u001b[39m\u001b[39m'\u001b[39m)\n\u001b[0;32m    241\u001b[0m     \u001b[39mraise\u001b[39;00m exception_class(message, screen, stacktrace, alert_text)\n\u001b[1;32m--> 242\u001b[0m \u001b[39mraise\u001b[39;00m exception_class(message, screen, stacktrace)\n",
      "\u001b[1;31mNoSuchWindowException\u001b[0m: Message: no such window: target window already closed\nfrom unknown error: web view not found\n  (Session info: chrome=109.0.5414.120)\n"
     ]
    }
   ],
   "source": [
    "get_modules_content(faculty='informatics', moduleName='natural', signedIn=False)"
   ]
  },
  {
   "cell_type": "code",
   "execution_count": 8,
   "metadata": {},
   "outputs": [
    {
     "data": {
      "text/plain": [
       "<selenium.webdriver.remote.webelement.WebElement (session=\"c12b280bd0d8c7fe70fac0f294592ea1\", element=\"80b13954-6aa0-421c-89ef-ebb2a5ff0316\")>"
      ]
     },
     "execution_count": 8,
     "metadata": {},
     "output_type": "execute_result"
    }
   ],
   "source": [
    "cardElem = browser.find_element_by_id(f'section-{1}')\n",
    "cardElem"
   ]
  },
  {
   "cell_type": "code",
   "execution_count": 119,
   "metadata": {},
   "outputs": [
    {
     "data": {
      "text/plain": [
       "['Dear Student,',\n",
       " 'Kindly Login If you belong to one of the following faculties:',\n",
       " 'Engineering',\n",
       " 'Energy & Environmental Engineering',\n",
       " 'Informatics and Computer Science',\n",
       " 'Arts & Design']"
      ]
     },
     "execution_count": 119,
     "metadata": {},
     "output_type": "execute_result"
    }
   ],
   "source": [
    "# debugging cell 1:\n",
    "# sources:\n",
    "# for pElem and parent lines: https://stackoverflow.com/questions/69922696/get-the-class-name-of-the-immediate-parent-of-element-with-inner-text-using-sele#:~:text=element%20%3D%20driver.find_element_by_xpath,tag_class%7D%22)\n",
    "# for children line: https://www.educba.com/xpath-descendant/#:~:text=Descendant%20is%20declared%20as%20%E2%80%98%20//%20%E2%80%98\n",
    "\n",
    "# browser.get('https://learn1.bue.edu.eg/')\n",
    "# keyword = 'Dear Student'\n",
    "# pElem = browser.find_element_by_xpath(f\"//*[contains(text(),'{keyword}')]\") # gets <p> tag that contains {keyword}\n",
    "# parent = pElem.find_element_by_xpath(\"./parent::*\") # gets that <p>'s parent\n",
    "# children = parent.find_elements_by_xpath('//descendant::p') # gets that parent's children that are of tag <p> (which includes the initially found <p> tag)\n",
    "\n",
    "# faculties = [name.strip() for name in parent.get_attribute('textContent').split('\\n')] # 'textContent' is used instead of 'innerHTML' as it gets the actual text inside the html tags & strip() is used to remove leading whitespace\n",
    "# faculties\n",
    "\n",
    "# Alternative:\n",
    "# for pElem in children:\n",
    "#     print(pElem.get_attribute('textContent').strip()) # \n"
   ]
  },
  {
   "cell_type": "code",
   "execution_count": null,
   "metadata": {},
   "outputs": [],
   "source": [
    "# debugging cell 2:\n",
    "# links = []\n",
    "# for divElem in browser.find_elements_by_xpath(\"//div[@class='card dashboard-card']\"): # go through the modules (needs the modules to be in cards layout)\n",
    "#     module = 'all'\n",
    "#     # print(divElem.find_element_by_xpath(\"//child::a\").get_attribute('innerHTML')) # for some reason, this returns the root <a> tag, not the child <a> tag of divElem\n",
    "#     aElem = divElem.find_element_by_tag_name('a') # so we'll use find_element_by_tag_name() instead: \n",
    "#     if module == 'all' or module in aElem.find_element_by_xpath('//child::span[3]').text: # and now xpath is working again...\n",
    "#         links.append(aElem.get_attribute('href'))"
   ]
  },
  {
   "cell_type": "code",
   "execution_count": 140,
   "metadata": {},
   "outputs": [
    {
     "data": {
      "text/plain": [
       "['https://learn1.bue.edu.eg/mod/resource/view.php?id=143605&redirect=1',\n",
       " 'https://learn1.bue.edu.eg/mod/resource/view.php?id=143664',\n",
       " 'https://learn1.bue.edu.eg/mod/resource/view.php?id=143664&redirect=1',\n",
       " 'https://learn1.bue.edu.eg/mod/resource/view.php?id=143607',\n",
       " 'https://learn1.bue.edu.eg/mod/resource/view.php?id=143607&redirect=1',\n",
       " 'https://learn1.bue.edu.eg/mod/resource/view.php?id=143609&redirect=1',\n",
       " 'https://learn1.bue.edu.eg/mod/resource/view.php?id=143778&redirect=1',\n",
       " 'https://learn1.bue.edu.eg/mod/resource/view.php?id=143779&redirect=1',\n",
       " 'https://learn1.bue.edu.eg/mod/resource/view.php?id=143610&redirect=1',\n",
       " 'https://learn1.bue.edu.eg/mod/resource/view.php?id=143613',\n",
       " 'https://learn1.bue.edu.eg/mod/resource/view.php?id=143613&redirect=1']"
      ]
     },
     "execution_count": 140,
     "metadata": {},
     "output_type": "execute_result"
    }
   ],
   "source": [
    "# debugging cell 3\n",
    "# cardElem = browser.find_element_by_id(f'section-1')\n",
    "# cardMaterialLinks = []\n",
    "# for aElem in cardElem.find_elements_by_tag_name('a'):\n",
    "#     materialLink = aElem.get_attribute('href')\n",
    "#     if materialLink is not None and 'resource/view' in materialLink:\n",
    "#         cardMaterialLinks.append(materialLink)\n",
    "# cardMaterialLinks"
   ]
  },
  {
   "cell_type": "code",
   "execution_count": 141,
   "metadata": {},
   "outputs": [],
   "source": [
    "# debugging cell 4\n",
    "# for materialLink in cardMaterialLinks:\n",
    "#     browser.get(materialLink)"
   ]
  },
  {
   "cell_type": "code",
   "execution_count": null,
   "metadata": {},
   "outputs": [],
   "source": [
    "    browser.get(courseUrl)\n",
    "    links = browser.find_elements_by_tag_name(\"a\")\n",
    "    courseUrls = []\n",
    "    for link in links:\n",
    "        url = link.get_attribute('href')\n",
    "        if (url is not None) and ('learn/' in url) and (url not in courseUrls):\n",
    "            courseUrls.append(url)\n",
    "    return courseUrls"
   ]
  }
 ],
 "metadata": {
  "kernelspec": {
   "display_name": "Python 3",
   "language": "python",
   "name": "python3"
  },
  "language_info": {
   "codemirror_mode": {
    "name": "ipython",
    "version": 3
   },
   "file_extension": ".py",
   "mimetype": "text/x-python",
   "name": "python",
   "nbconvert_exporter": "python",
   "pygments_lexer": "ipython3",
   "version": "3.8.16"
  },
  "orig_nbformat": 4,
  "vscode": {
   "interpreter": {
    "hash": "9d15b0ba40388cd748b1e98c878b61b749c1b0f1168ba8709ebdbc8148c31bfd"
   }
  }
 },
 "nbformat": 4,
 "nbformat_minor": 2
}
